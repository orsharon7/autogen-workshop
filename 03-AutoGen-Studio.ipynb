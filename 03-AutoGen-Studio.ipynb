{
 "cells": [
  {
   "cell_type": "markdown",
   "metadata": {},
   "source": [
    "# AutoGen Studio\n",
    "\n",
    "https://microsoft.github.io/autogen/docs/autogen-studio/getting-started"
   ]
  },
  {
   "cell_type": "code",
   "execution_count": 1,
   "metadata": {},
   "outputs": [
    {
     "name": "stdout",
     "output_type": "stream",
     "text": [
      "Requirement already satisfied: autogenstudio in /opt/anaconda3/lib/python3.11/site-packages (0.1.2)\n",
      "Requirement already satisfied: pydantic in /opt/anaconda3/lib/python3.11/site-packages (from autogenstudio) (1.10.8)\n",
      "Requirement already satisfied: fastapi in /opt/anaconda3/lib/python3.11/site-packages (from autogenstudio) (0.110.3)\n",
      "Requirement already satisfied: typer in /opt/anaconda3/lib/python3.11/site-packages (from autogenstudio) (0.9.4)\n",
      "Requirement already satisfied: uvicorn in /opt/anaconda3/lib/python3.11/site-packages (from autogenstudio) (0.23.2)\n",
      "Requirement already satisfied: arxiv in /opt/anaconda3/lib/python3.11/site-packages (from autogenstudio) (2.1.2)\n",
      "Requirement already satisfied: pyautogen>=0.2.0 in /opt/anaconda3/lib/python3.11/site-packages (from pyautogen[gemini]>=0.2.0->autogenstudio) (0.2.31)\n",
      "Requirement already satisfied: python-dotenv in /opt/anaconda3/lib/python3.11/site-packages (from autogenstudio) (0.21.0)\n",
      "Requirement already satisfied: websockets in /opt/anaconda3/lib/python3.11/site-packages (from autogenstudio) (12.0)\n",
      "Requirement already satisfied: numpy<2.0.0 in /opt/anaconda3/lib/python3.11/site-packages (from autogenstudio) (1.26.4)\n",
      "Requirement already satisfied: sqlmodel in /opt/anaconda3/lib/python3.11/site-packages (from autogenstudio) (0.0.19)\n",
      "Requirement already satisfied: psycopg in /opt/anaconda3/lib/python3.11/site-packages (from autogenstudio) (3.1.19)\n",
      "Requirement already satisfied: alembic in /opt/anaconda3/lib/python3.11/site-packages (from autogenstudio) (1.13.1)\n",
      "Requirement already satisfied: loguru in /opt/anaconda3/lib/python3.11/site-packages (from autogenstudio) (0.7.2)\n",
      "Requirement already satisfied: diskcache in /opt/anaconda3/lib/python3.11/site-packages (from pyautogen>=0.2.0->pyautogen[gemini]>=0.2.0->autogenstudio) (5.6.3)\n",
      "Requirement already satisfied: docker in /opt/anaconda3/lib/python3.11/site-packages (from pyautogen>=0.2.0->pyautogen[gemini]>=0.2.0->autogenstudio) (7.1.0)\n",
      "Requirement already satisfied: flaml in /opt/anaconda3/lib/python3.11/site-packages (from pyautogen>=0.2.0->pyautogen[gemini]>=0.2.0->autogenstudio) (2.1.2)\n",
      "Requirement already satisfied: openai>=1.3 in /opt/anaconda3/lib/python3.11/site-packages (from pyautogen>=0.2.0->pyautogen[gemini]>=0.2.0->autogenstudio) (1.26.0)\n",
      "Requirement already satisfied: packaging in /opt/anaconda3/lib/python3.11/site-packages (from pyautogen>=0.2.0->pyautogen[gemini]>=0.2.0->autogenstudio) (23.2)\n",
      "Requirement already satisfied: termcolor in /opt/anaconda3/lib/python3.11/site-packages (from pyautogen>=0.2.0->pyautogen[gemini]>=0.2.0->autogenstudio) (2.4.0)\n",
      "Requirement already satisfied: tiktoken in /opt/anaconda3/lib/python3.11/site-packages (from pyautogen>=0.2.0->pyautogen[gemini]>=0.2.0->autogenstudio) (0.6.0)\n",
      "Requirement already satisfied: google-auth in /opt/anaconda3/lib/python3.11/site-packages (from pyautogen[gemini]>=0.2.0->autogenstudio) (2.30.0)\n",
      "Requirement already satisfied: google-cloud-aiplatform in /opt/anaconda3/lib/python3.11/site-packages (from pyautogen[gemini]>=0.2.0->autogenstudio) (1.56.0)\n",
      "Requirement already satisfied: google-generativeai<1,>=0.5 in /opt/anaconda3/lib/python3.11/site-packages (from pyautogen[gemini]>=0.2.0->autogenstudio) (0.7.0)\n",
      "Requirement already satisfied: pillow in /opt/anaconda3/lib/python3.11/site-packages (from pyautogen[gemini]>=0.2.0->autogenstudio) (10.2.0)\n",
      "Requirement already satisfied: typing-extensions>=4.2.0 in /opt/anaconda3/lib/python3.11/site-packages (from pydantic->autogenstudio) (4.9.0)\n",
      "Requirement already satisfied: SQLAlchemy>=1.3.0 in /opt/anaconda3/lib/python3.11/site-packages (from alembic->autogenstudio) (2.0.25)\n",
      "Requirement already satisfied: Mako in /opt/anaconda3/lib/python3.11/site-packages (from alembic->autogenstudio) (1.3.5)\n",
      "Requirement already satisfied: feedparser~=6.0.10 in /opt/anaconda3/lib/python3.11/site-packages (from arxiv->autogenstudio) (6.0.11)\n",
      "Requirement already satisfied: requests~=2.32.0 in /opt/anaconda3/lib/python3.11/site-packages (from arxiv->autogenstudio) (2.32.3)\n",
      "Requirement already satisfied: starlette<0.38.0,>=0.37.2 in /opt/anaconda3/lib/python3.11/site-packages (from fastapi->autogenstudio) (0.37.2)\n",
      "Collecting pydantic (from autogenstudio)\n",
      "  Using cached pydantic-2.7.4-py3-none-any.whl.metadata (109 kB)\n",
      "Requirement already satisfied: annotated-types>=0.4.0 in /opt/anaconda3/lib/python3.11/site-packages (from pydantic->autogenstudio) (0.6.0)\n",
      "Requirement already satisfied: pydantic-core==2.18.4 in /opt/anaconda3/lib/python3.11/site-packages (from pydantic->autogenstudio) (2.18.4)\n",
      "Requirement already satisfied: click<9.0.0,>=7.1.1 in /opt/anaconda3/lib/python3.11/site-packages (from typer->autogenstudio) (8.1.7)\n",
      "Requirement already satisfied: h11>=0.8 in /opt/anaconda3/lib/python3.11/site-packages (from uvicorn->autogenstudio) (0.14.0)\n",
      "Requirement already satisfied: sgmllib3k in /opt/anaconda3/lib/python3.11/site-packages (from feedparser~=6.0.10->arxiv->autogenstudio) (1.0.0)\n",
      "Requirement already satisfied: google-ai-generativelanguage==0.6.5 in /opt/anaconda3/lib/python3.11/site-packages (from google-generativeai<1,>=0.5->pyautogen[gemini]>=0.2.0->autogenstudio) (0.6.5)\n",
      "Requirement already satisfied: google-api-core in /opt/anaconda3/lib/python3.11/site-packages (from google-generativeai<1,>=0.5->pyautogen[gemini]>=0.2.0->autogenstudio) (2.19.0)\n",
      "Requirement already satisfied: google-api-python-client in /opt/anaconda3/lib/python3.11/site-packages (from google-generativeai<1,>=0.5->pyautogen[gemini]>=0.2.0->autogenstudio) (2.134.0)\n",
      "Requirement already satisfied: protobuf in /opt/anaconda3/lib/python3.11/site-packages (from google-generativeai<1,>=0.5->pyautogen[gemini]>=0.2.0->autogenstudio) (4.25.3)\n",
      "Requirement already satisfied: tqdm in /opt/anaconda3/lib/python3.11/site-packages (from google-generativeai<1,>=0.5->pyautogen[gemini]>=0.2.0->autogenstudio) (4.65.0)\n",
      "Requirement already satisfied: proto-plus<2.0.0dev,>=1.22.3 in /opt/anaconda3/lib/python3.11/site-packages (from google-ai-generativelanguage==0.6.5->google-generativeai<1,>=0.5->pyautogen[gemini]>=0.2.0->autogenstudio) (1.24.0)\n",
      "Requirement already satisfied: cachetools<6.0,>=2.0.0 in /opt/anaconda3/lib/python3.11/site-packages (from google-auth->pyautogen[gemini]>=0.2.0->autogenstudio) (4.2.2)\n",
      "Requirement already satisfied: pyasn1-modules>=0.2.1 in /opt/anaconda3/lib/python3.11/site-packages (from google-auth->pyautogen[gemini]>=0.2.0->autogenstudio) (0.2.8)\n",
      "Requirement already satisfied: rsa<5,>=3.1.4 in /opt/anaconda3/lib/python3.11/site-packages (from google-auth->pyautogen[gemini]>=0.2.0->autogenstudio) (4.9)\n",
      "Requirement already satisfied: anyio<5,>=3.5.0 in /opt/anaconda3/lib/python3.11/site-packages (from openai>=1.3->pyautogen>=0.2.0->pyautogen[gemini]>=0.2.0->autogenstudio) (4.2.0)\n",
      "Requirement already satisfied: distro<2,>=1.7.0 in /opt/anaconda3/lib/python3.11/site-packages (from openai>=1.3->pyautogen>=0.2.0->pyautogen[gemini]>=0.2.0->autogenstudio) (1.8.0)\n",
      "Requirement already satisfied: httpx<1,>=0.23.0 in /opt/anaconda3/lib/python3.11/site-packages (from openai>=1.3->pyautogen>=0.2.0->pyautogen[gemini]>=0.2.0->autogenstudio) (0.27.0)\n",
      "Requirement already satisfied: sniffio in /opt/anaconda3/lib/python3.11/site-packages (from openai>=1.3->pyautogen>=0.2.0->pyautogen[gemini]>=0.2.0->autogenstudio) (1.3.0)\n",
      "Requirement already satisfied: charset-normalizer<4,>=2 in /opt/anaconda3/lib/python3.11/site-packages (from requests~=2.32.0->arxiv->autogenstudio) (2.0.4)\n",
      "Requirement already satisfied: idna<4,>=2.5 in /opt/anaconda3/lib/python3.11/site-packages (from requests~=2.32.0->arxiv->autogenstudio) (3.4)\n",
      "Requirement already satisfied: urllib3<3,>=1.21.1 in /opt/anaconda3/lib/python3.11/site-packages (from requests~=2.32.0->arxiv->autogenstudio) (1.26.18)\n",
      "Requirement already satisfied: certifi>=2017.4.17 in /opt/anaconda3/lib/python3.11/site-packages (from requests~=2.32.0->arxiv->autogenstudio) (2024.6.2)\n",
      "Requirement already satisfied: google-cloud-storage<3.0.0dev,>=1.32.0 in /opt/anaconda3/lib/python3.11/site-packages (from google-cloud-aiplatform->pyautogen[gemini]>=0.2.0->autogenstudio) (2.17.0)\n",
      "Requirement already satisfied: google-cloud-bigquery!=3.20.0,<4.0.0dev,>=1.15.0 in /opt/anaconda3/lib/python3.11/site-packages (from google-cloud-aiplatform->pyautogen[gemini]>=0.2.0->autogenstudio) (3.25.0)\n",
      "Requirement already satisfied: google-cloud-resource-manager<3.0.0dev,>=1.3.3 in /opt/anaconda3/lib/python3.11/site-packages (from google-cloud-aiplatform->pyautogen[gemini]>=0.2.0->autogenstudio) (1.12.3)\n",
      "Requirement already satisfied: shapely<3.0.0dev in /opt/anaconda3/lib/python3.11/site-packages (from google-cloud-aiplatform->pyautogen[gemini]>=0.2.0->autogenstudio) (2.0.4)\n",
      "Requirement already satisfied: docstring-parser<1 in /opt/anaconda3/lib/python3.11/site-packages (from google-cloud-aiplatform->pyautogen[gemini]>=0.2.0->autogenstudio) (0.16)\n",
      "Requirement already satisfied: MarkupSafe>=0.9.2 in /opt/anaconda3/lib/python3.11/site-packages (from Mako->alembic->autogenstudio) (2.1.3)\n",
      "Requirement already satisfied: regex>=2022.1.18 in /opt/anaconda3/lib/python3.11/site-packages (from tiktoken->pyautogen>=0.2.0->pyautogen[gemini]>=0.2.0->autogenstudio) (2023.10.3)\n",
      "Requirement already satisfied: googleapis-common-protos<2.0.dev0,>=1.56.2 in /opt/anaconda3/lib/python3.11/site-packages (from google-api-core->google-generativeai<1,>=0.5->pyautogen[gemini]>=0.2.0->autogenstudio) (1.63.1)\n",
      "Requirement already satisfied: grpcio<2.0dev,>=1.33.2 in /opt/anaconda3/lib/python3.11/site-packages (from google-api-core[grpc]!=2.0.*,!=2.1.*,!=2.10.*,!=2.2.*,!=2.3.*,!=2.4.*,!=2.5.*,!=2.6.*,!=2.7.*,!=2.8.*,!=2.9.*,<3.0.0dev,>=1.34.1->google-ai-generativelanguage==0.6.5->google-generativeai<1,>=0.5->pyautogen[gemini]>=0.2.0->autogenstudio) (1.64.1)\n",
      "Requirement already satisfied: grpcio-status<2.0.dev0,>=1.33.2 in /opt/anaconda3/lib/python3.11/site-packages (from google-api-core[grpc]!=2.0.*,!=2.1.*,!=2.10.*,!=2.2.*,!=2.3.*,!=2.4.*,!=2.5.*,!=2.6.*,!=2.7.*,!=2.8.*,!=2.9.*,<3.0.0dev,>=1.34.1->google-ai-generativelanguage==0.6.5->google-generativeai<1,>=0.5->pyautogen[gemini]>=0.2.0->autogenstudio) (1.62.2)\n",
      "Requirement already satisfied: google-cloud-core<3.0.0dev,>=1.6.0 in /opt/anaconda3/lib/python3.11/site-packages (from google-cloud-bigquery!=3.20.0,<4.0.0dev,>=1.15.0->google-cloud-aiplatform->pyautogen[gemini]>=0.2.0->autogenstudio) (2.4.1)\n",
      "Requirement already satisfied: google-resumable-media<3.0dev,>=0.6.0 in /opt/anaconda3/lib/python3.11/site-packages (from google-cloud-bigquery!=3.20.0,<4.0.0dev,>=1.15.0->google-cloud-aiplatform->pyautogen[gemini]>=0.2.0->autogenstudio) (2.7.1)\n",
      "Requirement already satisfied: python-dateutil<3.0dev,>=2.7.2 in /opt/anaconda3/lib/python3.11/site-packages (from google-cloud-bigquery!=3.20.0,<4.0.0dev,>=1.15.0->google-cloud-aiplatform->pyautogen[gemini]>=0.2.0->autogenstudio) (2.8.2)\n",
      "Requirement already satisfied: grpc-google-iam-v1<1.0.0dev,>=0.12.4 in /opt/anaconda3/lib/python3.11/site-packages (from google-cloud-resource-manager<3.0.0dev,>=1.3.3->google-cloud-aiplatform->pyautogen[gemini]>=0.2.0->autogenstudio) (0.13.0)\n",
      "Requirement already satisfied: google-crc32c<2.0dev,>=1.0 in /opt/anaconda3/lib/python3.11/site-packages (from google-cloud-storage<3.0.0dev,>=1.32.0->google-cloud-aiplatform->pyautogen[gemini]>=0.2.0->autogenstudio) (1.5.0)\n",
      "Requirement already satisfied: httpcore==1.* in /opt/anaconda3/lib/python3.11/site-packages (from httpx<1,>=0.23.0->openai>=1.3->pyautogen>=0.2.0->pyautogen[gemini]>=0.2.0->autogenstudio) (1.0.5)\n",
      "Requirement already satisfied: pyasn1<0.5.0,>=0.4.6 in /opt/anaconda3/lib/python3.11/site-packages (from pyasn1-modules>=0.2.1->google-auth->pyautogen[gemini]>=0.2.0->autogenstudio) (0.4.8)\n",
      "Requirement already satisfied: httplib2<1.dev0,>=0.19.0 in /opt/anaconda3/lib/python3.11/site-packages (from google-api-python-client->google-generativeai<1,>=0.5->pyautogen[gemini]>=0.2.0->autogenstudio) (0.22.0)\n",
      "Requirement already satisfied: google-auth-httplib2<1.0.0,>=0.2.0 in /opt/anaconda3/lib/python3.11/site-packages (from google-api-python-client->google-generativeai<1,>=0.5->pyautogen[gemini]>=0.2.0->autogenstudio) (0.2.0)\n",
      "Requirement already satisfied: uritemplate<5,>=3.0.1 in /opt/anaconda3/lib/python3.11/site-packages (from google-api-python-client->google-generativeai<1,>=0.5->pyautogen[gemini]>=0.2.0->autogenstudio) (4.1.1)\n",
      "Requirement already satisfied: pyparsing!=3.0.0,!=3.0.1,!=3.0.2,!=3.0.3,<4,>=2.4.2 in /opt/anaconda3/lib/python3.11/site-packages (from httplib2<1.dev0,>=0.19.0->google-api-python-client->google-generativeai<1,>=0.5->pyautogen[gemini]>=0.2.0->autogenstudio) (3.0.9)\n",
      "Requirement already satisfied: six>=1.5 in /opt/anaconda3/lib/python3.11/site-packages (from python-dateutil<3.0dev,>=2.7.2->google-cloud-bigquery!=3.20.0,<4.0.0dev,>=1.15.0->google-cloud-aiplatform->pyautogen[gemini]>=0.2.0->autogenstudio) (1.16.0)\n",
      "Using cached pydantic-2.7.4-py3-none-any.whl (409 kB)\n",
      "Installing collected packages: pydantic\n",
      "  Attempting uninstall: pydantic\n",
      "    Found existing installation: pydantic 1.10.8\n",
      "    Uninstalling pydantic-1.10.8:\n",
      "      Successfully uninstalled pydantic-1.10.8\n",
      "\u001b[31mERROR: pip's dependency resolver does not currently take into account all the packages that are installed. This behaviour is the source of the following dependency conflicts.\n",
      "cohere 5.3.2 requires tokenizers<0.16.0,>=0.15.2, but you have tokenizers 0.19.1 which is incompatible.\n",
      "langchain-mistralai 0.1.6 requires tokenizers<0.16.0,>=0.15.1, but you have tokenizers 0.19.1 which is incompatible.\u001b[0m\u001b[31m\n",
      "\u001b[0mSuccessfully installed pydantic-2.7.4\n",
      "Note: you may need to restart the kernel to use updated packages.\n"
     ]
    }
   ],
   "source": [
    "%pip install autogenstudio"
   ]
  },
  {
   "cell_type": "code",
   "execution_count": 4,
   "metadata": {},
   "outputs": [
    {
     "name": "stdout",
     "output_type": "stream",
     "text": [
      "\u001b[32m2024-06-25 15:29:35.331\u001b[0m | \u001b[1mINFO    \u001b[0m | \u001b[36mautogenstudio.utils.utils\u001b[0m:\u001b[36mget_db_uri\u001b[0m:\u001b[36m253\u001b[0m - \u001b[1mUsing database URI: sqlite:///./autogenstudio/database.sqlite\u001b[0m\n",
      "\u001b[32m2024-06-25 15:29:35.331\u001b[0m | \u001b[1mINFO    \u001b[0m | \u001b[36mautogenstudio.utils.utils\u001b[0m:\u001b[36minit_app_folders\u001b[0m:\u001b[36m288\u001b[0m - \u001b[1mInitialized application data folder: ./autogenstudio/\u001b[0m\n",
      "\u001b[32mINFO\u001b[0m:     Started server process [\u001b[36m62981\u001b[0m]\n",
      "\u001b[32mINFO\u001b[0m:     Waiting for application startup.\n",
      "***** App started *****\n",
      "\u001b[32m2024-06-25 15:29:35.354\u001b[0m | \u001b[1mINFO    \u001b[0m | \u001b[36mautogenstudio.database.utils\u001b[0m:\u001b[36minit_db_samples\u001b[0m:\u001b[36m148\u001b[0m - \u001b[1mDatabase already initialized with Default and Travel Planning Workflows\u001b[0m\n",
      "\u001b[32mINFO\u001b[0m:     Application startup complete.\n",
      "\u001b[32mINFO\u001b[0m:     Uvicorn running on \u001b[1mhttp://127.0.0.1:8081\u001b[0m (Press CTRL+C to quit)\n",
      "\u001b[32mINFO\u001b[0m:     127.0.0.1:52174 - \"\u001b[1mGET /api/sessions?user_id=guestuser@gmail.com HTTP/1.1\u001b[0m\" \u001b[32m200 OK\u001b[0m\n",
      "\u001b[32mINFO\u001b[0m:     127.0.0.1:52175 - \"\u001b[1mGET /api/version HTTP/1.1\u001b[0m\" \u001b[32m200 OK\u001b[0m\n",
      "\u001b[32mINFO\u001b[0m:     127.0.0.1:52174 - \"\u001b[1mGET /api/sessions?user_id=guestuser@gmail.com HTTP/1.1\u001b[0m\" \u001b[32m200 OK\u001b[0m\n",
      "\u001b[32mINFO\u001b[0m:     127.0.0.1:52174 - \"\u001b[1mGET /api/workflows/1?user_id=guestuser@gmail.com HTTP/1.1\u001b[0m\" \u001b[32m200 OK\u001b[0m\n",
      "\u001b[32mINFO\u001b[0m:     127.0.0.1:52175 - \"\u001b[1mGET /api/sessions/1/messages?user_id=guestuser@gmail.com HTTP/1.1\u001b[0m\" \u001b[32m200 OK\u001b[0m\n",
      "\u001b[32mINFO\u001b[0m:     ('127.0.0.1', 52177) - \"WebSocket /api/ws/e29ee137-1556-487f-8dca-340d2497f963\" [accepted]\n",
      "New Connection: e29ee137-1556-487f-8dca-340d2497f963, Total: 1\n",
      "\u001b[32mINFO\u001b[0m:     connection open\n",
      "\u001b[32mINFO\u001b[0m:     127.0.0.1:52175 - \"\u001b[1mGET /api/workflows/1?user_id=guestuser@gmail.com HTTP/1.1\u001b[0m\" \u001b[32m200 OK\u001b[0m\n",
      "\u001b[32mINFO\u001b[0m:     127.0.0.1:52174 - \"\u001b[1mGET /api/sessions/1/messages?user_id=guestuser@gmail.com HTTP/1.1\u001b[0m\" \u001b[32m200 OK\u001b[0m\n",
      "Client #e29ee137-1556-487f-8dca-340d2497f963 is disconnected\n",
      "Connection Closed. Total: 0\n",
      "\u001b[32mINFO\u001b[0m:     connection closed\n",
      "^C\n",
      "\u001b[32mINFO\u001b[0m:     Shutting down\n",
      "\u001b[32mINFO\u001b[0m:     Waiting for application shutdown.\n",
      "***** App stopped *****\n",
      "\u001b[32mINFO\u001b[0m:     Application shutdown complete.\n",
      "\u001b[32mINFO\u001b[0m:     Finished server process [\u001b[36m62981\u001b[0m]\n"
     ]
    }
   ],
   "source": [
    "! autogenstudio ui --port 8081 --appdir ./autogenstudio/"
   ]
  }
 ],
 "metadata": {
  "kernelspec": {
   "display_name": "base",
   "language": "python",
   "name": "python3"
  },
  "language_info": {
   "codemirror_mode": {
    "name": "ipython",
    "version": 3
   },
   "file_extension": ".py",
   "mimetype": "text/x-python",
   "name": "python",
   "nbconvert_exporter": "python",
   "pygments_lexer": "ipython3",
   "version": "3.11.7"
  }
 },
 "nbformat": 4,
 "nbformat_minor": 2
}
